{
 "cells": [
  {
   "cell_type": "markdown",
   "metadata": {},
   "source": [
    "### 데이터 학습 파일"
   ]
  },
  {
   "cell_type": "code",
   "execution_count": 1,
   "metadata": {},
   "outputs": [],
   "source": [
    "import pandas as pd\n",
    "import numpy as np\n",
    "import cv2\n",
    "import os, glob"
   ]
  },
  {
   "cell_type": "markdown",
   "metadata": {},
   "source": [
    "데이터 불러오기"
   ]
  },
  {
   "cell_type": "code",
   "execution_count": 2,
   "metadata": {},
   "outputs": [
    {
     "data": {
      "text/plain": [
       "['./newImage(2)\\\\aga',\n",
       " './newImage(2)\\\\bangle',\n",
       " './newImage(2)\\\\baro',\n",
       " './newImage(2)\\\\chacha',\n",
       " './newImage(2)\\\\ggrae',\n",
       " './newImage(2)\\\\hachu',\n",
       " './newImage(2)\\\\happy',\n",
       " './newImage(2)\\\\joa',\n",
       " './newImage(2)\\\\lala',\n",
       " './newImage(2)\\\\malang',\n",
       " './newImage(2)\\\\nana',\n",
       " './newImage(2)\\\\posil',\n",
       " './newImage(2)\\\\soljji',\n",
       " './newImage(2)\\\\trust']"
      ]
     },
     "execution_count": 2,
     "metadata": {},
     "output_type": "execute_result"
    }
   ],
   "source": [
    "# 폴더 불러오기\n",
    "filepath='./newImage(2)/'\n",
    "files=glob.glob(filepath+'*')\n",
    "files"
   ]
  },
  {
   "cell_type": "code",
   "execution_count": 3,
   "metadata": {},
   "outputs": [
    {
     "name": "stdout",
     "output_type": "stream",
     "text": [
      "(6546, 120000) (6546,) 785520000\n"
     ]
    }
   ],
   "source": [
    "data_list = []\n",
    "label_list = []\n",
    "\n",
    "for image_folder in files:\n",
    "    imgs = glob.glob(image_folder + '/*')\n",
    "    label_list.extend([f'{image_folder[14:]}Ping']*len(imgs))\n",
    "\n",
    "    for img_path in imgs:\n",
    "        # 이미지 파일 읽기 \n",
    "        img = cv2.imread(img_path).reshape(-1)\n",
    "        data_list.append(img)\n",
    "\n",
    "# 리스트를 NumPy 배열로 변환\n",
    "imgNP = np.array(data_list)     # 용량 많으면  #.astype('uint16') 써서 줄이기\n",
    "label = np.array(label_list)\n",
    "\n",
    "\n",
    "print(imgNP.shape, label.shape,imgNP.size)"
   ]
  },
  {
   "cell_type": "code",
   "execution_count": 4,
   "metadata": {},
   "outputs": [],
   "source": [
    "#스케일링\n",
    "imgNP=imgNP/255"
   ]
  },
  {
   "cell_type": "markdown",
   "metadata": {},
   "source": [
    "## 모델링 전처리"
   ]
  },
  {
   "cell_type": "markdown",
   "metadata": {},
   "source": [
    "train/test 데이터 나누기"
   ]
  },
  {
   "cell_type": "code",
   "execution_count": 5,
   "metadata": {},
   "outputs": [],
   "source": [
    "from sklearn.model_selection import train_test_split"
   ]
  },
  {
   "cell_type": "code",
   "execution_count": 6,
   "metadata": {},
   "outputs": [],
   "source": [
    "train_x,test_x,train_y,test_y=train_test_split(imgNP,label,stratify=label,test_size=0.2,random_state=10)"
   ]
  },
  {
   "cell_type": "code",
   "execution_count": 7,
   "metadata": {},
   "outputs": [
    {
     "name": "stdout",
     "output_type": "stream",
     "text": [
      "[train] train_x.shape=(5236, 120000), train_y.shape=(5236,), train_x.ndim=2, train_y.ndim=1\n"
     ]
    }
   ],
   "source": [
    "print(f'[train] {train_x.shape=}, {train_y.shape=}, {train_x.ndim=}, {train_y.ndim=}')"
   ]
  },
  {
   "cell_type": "markdown",
   "metadata": {},
   "source": [
    "학습"
   ]
  },
  {
   "cell_type": "code",
   "execution_count": 8,
   "metadata": {},
   "outputs": [],
   "source": [
    "from sklearn.ensemble import RandomForestClassifier\n",
    "import joblib"
   ]
  },
  {
   "cell_type": "code",
   "execution_count": 9,
   "metadata": {},
   "outputs": [],
   "source": [
    "trainModels=[RandomForestClassifier()]"
   ]
  },
  {
   "cell_type": "code",
   "execution_count": 10,
   "metadata": {},
   "outputs": [],
   "source": [
    "def mL_score_print(trainModels,train_X,test_X,train_Y,test_Y):\n",
    "    for model in trainModels:       \n",
    "        model_ = model\n",
    "        model_.fit(train_X,train_Y)\n",
    "\n",
    "        # 모델 저장\n",
    "        model_path='./model/'\n",
    "        model_file=model_path+f'{model.__class__.__name__}(15).pkl'\n",
    "        joblib.dump(model_,model_file)\n",
    "\n",
    "        # # 훈련 / 테스트 점수 출력\n",
    "        train_score=model_.score(train_X,train_Y)\n",
    "        test_score=model_.score(test_X,test_Y)\n",
    "        print(f\"{model.__class__.__name__} \\ntrain_score : {train_score:.4f}, test_score : {test_score:.4f}\")"
   ]
  },
  {
   "cell_type": "code",
   "execution_count": 11,
   "metadata": {},
   "outputs": [
    {
     "name": "stdout",
     "output_type": "stream",
     "text": [
      "RandomForestClassifier \n",
      "train_score : 1.0000, test_score : 0.9992\n"
     ]
    }
   ],
   "source": [
    "mL_score_print(trainModels,train_x,test_x,train_y,test_y)"
   ]
  },
  {
   "cell_type": "code",
   "execution_count": null,
   "metadata": {},
   "outputs": [],
   "source": []
  }
 ],
 "metadata": {
  "kernelspec": {
   "display_name": "MY_PYTHON",
   "language": "python",
   "name": "python3"
  },
  "language_info": {
   "codemirror_mode": {
    "name": "ipython",
    "version": 3
   },
   "file_extension": ".py",
   "mimetype": "text/x-python",
   "name": "python",
   "nbconvert_exporter": "python",
   "pygments_lexer": "ipython3",
   "version": "3.9.18"
  },
  "orig_nbformat": 4
 },
 "nbformat": 4,
 "nbformat_minor": 2
}
