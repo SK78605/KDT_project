{
 "cells": [
  {
   "cell_type": "markdown",
   "metadata": {},
   "source": [
    "### 학습 후 테스트"
   ]
  },
  {
   "cell_type": "code",
   "execution_count": 21,
   "metadata": {},
   "outputs": [],
   "source": [
    "import pandas as pd\n",
    "import numpy as np\n",
    "import cv2\n",
    "import os, glob\n",
    "import gzip,tarfile"
   ]
  },
  {
   "cell_type": "code",
   "execution_count": 22,
   "metadata": {},
   "outputs": [],
   "source": [
    "# 모델 불러오기\n",
    "from joblib import load"
   ]
  },
  {
   "cell_type": "code",
   "execution_count": 23,
   "metadata": {},
   "outputs": [],
   "source": [
    "# 모델 파일 관련 변수\n",
    "model_dir='./model/'\n",
    "\n",
    "# 모델 로딩\n",
    "rf_ping=load(model_dir + 'RandomForestClassifier(15).pkl')"
   ]
  },
  {
   "cell_type": "code",
   "execution_count": 24,
   "metadata": {},
   "outputs": [
    {
     "name": "stdout",
     "output_type": "stream",
     "text": [
      "<class 'sklearn.ensemble._forest.RandomForestClassifier'>\n"
     ]
    }
   ],
   "source": [
    "print(type(rf_ping))"
   ]
  },
  {
   "cell_type": "markdown",
   "metadata": {},
   "source": [
    "테스트 파일 가져오기"
   ]
  },
  {
   "cell_type": "code",
   "execution_count": 25,
   "metadata": {},
   "outputs": [
    {
     "name": "stdout",
     "output_type": "stream",
     "text": [
      "1 ['nanaPing']\n",
      "2 ['lalaPing']\n",
      "3 ['ggraePing']\n",
      "4 ['ggraePing']\n",
      "5 ['soljjiPing']\n",
      "6 ['nanaPing']\n",
      "7 ['malangPing']\n",
      "8 ['malangPing']\n",
      "9 ['ggraePing']\n",
      "10 ['soljjiPing']\n",
      "11 ['hachuPing']\n",
      "12 ['hachuPing']\n",
      "13 ['ggraePing']\n",
      "14 ['nanaPing']\n",
      "15 ['soljjiPing']\n",
      "16 ['malangPing']\n",
      "17 ['soljjiPing']\n"
     ]
    }
   ],
   "source": [
    "for i in range(1,18):\n",
    "\n",
    "    # 이미지 파일 경로\n",
    "    img_test = f'./test_image/test ({i}).jpg'\n",
    "\n",
    "    # 이미지를 컬러로 읽어오기\n",
    "    img = cv2.imread(img_test)\n",
    "\n",
    "    # 이미지 크기 조절 (옵션)\n",
    "    org = cv2.resize(img, (200,200))\n",
    "    # rem = remove(org)\n",
    "    # image = cv2.cvtColor(rem, cv2.COLOR_BGRA2BGR)\n",
    "    # 이미지를 정규화\n",
    "    img_normalized = org / 255.0  \n",
    "    img_input = img_normalized.reshape((1, -1))\n",
    "\n",
    "    # 이미지 shape 확인\n",
    "    img_input.shape \n",
    "\n",
    "    print(i,rf_ping.predict(img_input))"
   ]
  }
 ],
 "metadata": {
  "kernelspec": {
   "display_name": "MY_PYTHON",
   "language": "python",
   "name": "python3"
  },
  "language_info": {
   "codemirror_mode": {
    "name": "ipython",
    "version": 3
   },
   "file_extension": ".py",
   "mimetype": "text/x-python",
   "name": "python",
   "nbconvert_exporter": "python",
   "pygments_lexer": "ipython3",
   "version": "3.9.7"
  },
  "orig_nbformat": 4
 },
 "nbformat": 4,
 "nbformat_minor": 2
}
