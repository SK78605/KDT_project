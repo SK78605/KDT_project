{
 "cells": [
  {
   "cell_type": "code",
   "execution_count": null,
   "id": "d1c6ed7c",
   "metadata": {},
   "outputs": [],
   "source": []
  },
  {
   "cell_type": "code",
   "execution_count": 8,
   "id": "c0b92b6d",
   "metadata": {},
   "outputs": [],
   "source": [
    "def pisa():\n",
    "    import pandas as pd\n",
    "    pisa = pd.DataFrame([[536.5, 518.5, 514.5]], index=['대한민국'], columns=[2012, 2015, 2018])\n",
    "    return pisa"
   ]
  },
  {
   "cell_type": "code",
   "execution_count": null,
   "id": "142d1cc4",
   "metadata": {},
   "outputs": [],
   "source": []
  }
 ],
 "metadata": {
  "kernelspec": {
   "display_name": "Python 3 (ipykernel)",
   "language": "python",
   "name": "python3"
  },
  "language_info": {
   "codemirror_mode": {
    "name": "ipython",
    "version": 3
   },
   "file_extension": ".py",
   "mimetype": "text/x-python",
   "name": "python",
   "nbconvert_exporter": "python",
   "pygments_lexer": "ipython3",
   "version": "3.9.17"
  }
 },
 "nbformat": 4,
 "nbformat_minor": 5
}
