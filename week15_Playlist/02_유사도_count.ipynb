{
 "cells": [
  {
   "cell_type": "code",
   "execution_count": 86,
   "metadata": {},
   "outputs": [],
   "source": [
    "import pandas as pd\n",
    "import mariadb\n",
    "import numpy as np\n",
    "from tqdm import tqdm"
   ]
  },
  {
   "cell_type": "code",
   "execution_count": 87,
   "metadata": {},
   "outputs": [],
   "source": [
    "# mariaDB 접속값\n",
    "conn_params = {'host':'localhost',\n",
    "               'port':3306,\n",
    "               'user':'root',\n",
    "               'password':'root',\n",
    "               'database':\"musicdb\",\n",
    "               'autocommit':True}\n",
    "conn = mariadb.connect(**conn_params)\n",
    "cursor = conn.cursor()\n",
    "\n",
    "# DB 에서 musictb 데이터 조회하는  sql 실행\n",
    "cursor.execute('select * from musictb;')\n",
    "\n",
    "# 조회결과 가져오기\n",
    "queryDatas=cursor.fetchall()\n",
    "\n",
    "df=pd.DataFrame(queryDatas)\n",
    "\n",
    "cursor.close()\n",
    "conn.close()"
   ]
  },
  {
   "cell_type": "code",
   "execution_count": 88,
   "metadata": {},
   "outputs": [],
   "source": [
    "# 가져온 df 확인\n",
    "df.columns=['가수','제목','앨범사진','리뷰1','리뷰2']"
   ]
  },
  {
   "cell_type": "code",
   "execution_count": 89,
   "metadata": {},
   "outputs": [],
   "source": [
    "df['총리뷰']=df['리뷰1'].str.replace(\"|\",\" \")+\" \"+df['리뷰2'].str.replace(\"|\",\" \")"
   ]
  },
  {
   "cell_type": "code",
   "execution_count": 90,
   "metadata": {},
   "outputs": [],
   "source": [
    "# 정규 표현식을 통한 한글 외 문자 제거\n",
    "import re\n",
    "df['총리뷰'] = df['총리뷰'].apply(lambda x: re.sub(r'[^ㄱ-ㅎㅏ-ㅣ가-힣 ]', '', x))"
   ]
  },
  {
   "cell_type": "code",
   "execution_count": 91,
   "metadata": {},
   "outputs": [
    {
     "name": "stderr",
     "output_type": "stream",
     "text": [
      "  0%|          | 0/578 [00:00<?, ?it/s]"
     ]
    },
    {
     "name": "stderr",
     "output_type": "stream",
     "text": [
      "100%|██████████| 578/578 [03:04<00:00,  3.14it/s]\n"
     ]
    }
   ],
   "source": [
    "from konlpy.tag import Okt\n",
    "\n",
    "# 토큰화\n",
    "okt=Okt()\n",
    "\n",
    "# 불용어 정의\n",
    "stopwords = ['의','가','이','은','들','는','좀','잘','걍','과','도','를','으로',\n",
    "             '자','에','와','한','하다','재생','다운로드','곡명','앨범명','아티스트명','ㅠ','ㅋ','왈',\n",
    "             'ㄱㄱ', 'ㄱㄱㄱ','ㄱㄱㄹ',\t'ㄱㄱㅂ', 'ㄱㄲ','ㄱㄴ', 'ㄱㄴㄴ','ㄱㄴㄷㄹ','ㄱㄴㄷㄹㅁ','ㄱㄴㄷㄹㅁㅂ']\n",
    "\n",
    "# 명사와 형용사만 선택\n",
    "tokenized_data = []\n",
    "for s in tqdm(df['총리뷰']):\n",
    "    sentence = okt.pos(s, norm=True, # norm 정규화\n",
    "                        stem=True)  # 형태소와 품사 정보 추출\n",
    "\n",
    "    # 조사 삭제\n",
    "    selected_words =[word for word, pos in sentence if pos != 'Josa' and word not in stopwords]\n",
    "    tokenized_data.append(\" \".join(selected_words))"
   ]
  },
  {
   "cell_type": "code",
   "execution_count": 93,
   "metadata": {},
   "outputs": [],
   "source": [
    "# 명사,형용사만 있는 새로운 컬럼 추가\n",
    "df['token_review']=tokenized_data"
   ]
  },
  {
   "cell_type": "code",
   "execution_count": 94,
   "metadata": {},
   "outputs": [],
   "source": [
    "# csv 파일로 저장\n",
    "df.to_csv('./not_josa.csv',encoding='utf-8')"
   ]
  },
  {
   "cell_type": "code",
   "execution_count": null,
   "metadata": {},
   "outputs": [],
   "source": []
  }
 ],
 "metadata": {
  "kernelspec": {
   "display_name": "BY_YUNA",
   "language": "python",
   "name": "python3"
  },
  "language_info": {
   "codemirror_mode": {
    "name": "ipython",
    "version": 3
   },
   "file_extension": ".py",
   "mimetype": "text/x-python",
   "name": "python",
   "nbconvert_exporter": "python",
   "pygments_lexer": "ipython3",
   "version": "3.9.18"
  }
 },
 "nbformat": 4,
 "nbformat_minor": 2
}
