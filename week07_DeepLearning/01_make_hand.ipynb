{
 "cells": [
  {
   "cell_type": "markdown",
   "metadata": {},
   "source": [
    "### 이미지 증폭 클래스"
   ]
  },
  {
   "cell_type": "code",
   "execution_count": 1,
   "metadata": {},
   "outputs": [],
   "source": [
    "import pandas as pd\n",
    "import numpy as np\n",
    "import cv2\n",
    "import matplotlib.pyplot as plt\n",
    "import os, glob\n",
    "import gzip,tarfile\n",
    "import random"
   ]
  },
  {
   "cell_type": "code",
   "execution_count": 2,
   "metadata": {},
   "outputs": [],
   "source": [
    "class ImageMaker:\n",
    "    '''\n",
    "    한 장의 사진으로 회전, 대칭 등 변환해서 여러장으로 만드는 클래스\n",
    "    data_path_ :  원본 데이터 경로\n",
    "    new_path_: 새롭게 저장할 경로\n",
    "    title_:이미지 파일 이름\n",
    "    '''\n",
    "\n",
    "    # 객체 생성\n",
    "    def __init__(self,data_path_,new_path_,title_):\n",
    "        self.data_path=data_path_\n",
    "        self.new_path = new_path_\n",
    "        self.title = title_\n",
    "        self.num_i = 1\n",
    "\n",
    "    # 새로운 폴더 만들기\n",
    "    def create_new_folder(self):\n",
    "        if not os.path.exists(self.new_path):\n",
    "            os.makedirs(self.new_path)\n",
    "        else:pass\n",
    "\n",
    "    # 이미지 크기 조절, 그레이 스케일, 누끼 등\n",
    "    def resize_images(self,dsize_):\n",
    "        images=glob.glob(self.data_path+'*')\n",
    "\n",
    "        for image in images:\n",
    "            org=cv2.imread(image,cv2.IMREAD_GRAYSCALE)  # 그레이스케일\n",
    "\n",
    "            '''이미지 크기 조절\n",
    "            - cv2.resize(src,이미지크기)\n",
    "            - src : 원본이미지'''\n",
    "            resized_=cv2.resize(org,dsize_)\n",
    "            cv2.imwrite(self.new_path+f'{self.title}_{self.num_i}.png',resized_)\n",
    "            self.num_i += 1\n",
    "\n",
    "\n",
    "    # 이미지 회전\n",
    "    def rotate_images(self,degrees_):\n",
    "    # 회전 행렬 생성 : cv2.getRotationMatrix2D(중심축,각도,비율)\n",
    "    # 회전 변환 행렬에 따른 회전 이미지 반환: cv2.warpAffine(src,회전 행렬,(w,h))\n",
    "        images=glob.glob(self.new_path+'*')\n",
    "\n",
    "        for image in images:\n",
    "            img=cv2.imread(image)\n",
    "            # 이미지 높이, 너비 채널 정보 추출 => 높이 , 너비 이용 회전 중심점 설정\n",
    "            h,w,c=img.shape\n",
    "\n",
    "            for degree in degrees_:\n",
    "                matrix=cv2.getRotationMatrix2D((w/2,h/2),degree,0.95) #<= 비율\n",
    "                rotate_=cv2.warpAffine(img,matrix,(w,h))\n",
    "                cv2.imwrite(image.replace('.png',f'_rotate({degree}).png'),rotate_)\n",
    "\n",
    "    # 이미지 움직임\n",
    "    def image_move(self, translate_list):\n",
    "        images = glob.glob(self.new_path + '*')\n",
    "\n",
    "        for image in images:\n",
    "            img = cv2.imread(image)\n",
    "\n",
    "            for translate in translate_list:\n",
    "                matrix = np.array([\n",
    "                    [1, 0, translate[0]],\n",
    "                    [0, 1, translate[1]]\n",
    "                ], dtype=\"float\")\n",
    "                dst = cv2.warpAffine(img, matrix, (img.shape[1], img.shape[0]), borderValue=(255, 255, 255)) # r,g,b 옮기면서 생기는 빈 여백을 이걸로 채워줌\n",
    "                cv2.imwrite(image.replace('.png', f'_move({translate[0]},{translate[1]}).png'), dst)\n",
    "\n",
    "\n",
    "    # 실행 !!!!!!!!!!!!!!!\n",
    "    def run(self):\n",
    "        self.create_new_folder()\n",
    "        self.resize_images((32,32))  \n",
    "        degrees1=list(range(1,11,1))+list(range(350,360,1))\n",
    "        self.rotate_images(degrees1)\n",
    "        translate_list=[(2,2),(-2,-2)]\n",
    "        self.image_move(translate_list)\n",
    "\n"
   ]
  },
  {
   "cell_type": "code",
   "execution_count": 3,
   "metadata": {},
   "outputs": [
    {
     "data": {
      "text/plain": [
       "['./HAND\\\\J1',\n",
       " './HAND\\\\J10',\n",
       " './HAND\\\\J11',\n",
       " './HAND\\\\J12',\n",
       " './HAND\\\\J13',\n",
       " './HAND\\\\J14',\n",
       " './HAND\\\\J2',\n",
       " './HAND\\\\J3',\n",
       " './HAND\\\\J4',\n",
       " './HAND\\\\J5',\n",
       " './HAND\\\\J6',\n",
       " './HAND\\\\J7',\n",
       " './HAND\\\\J8',\n",
       " './HAND\\\\J9',\n",
       " './HAND\\\\M1',\n",
       " './HAND\\\\M10',\n",
       " './HAND\\\\M11',\n",
       " './HAND\\\\M12',\n",
       " './HAND\\\\M13',\n",
       " './HAND\\\\M14',\n",
       " './HAND\\\\M15',\n",
       " './HAND\\\\M16',\n",
       " './HAND\\\\M17',\n",
       " './HAND\\\\M2',\n",
       " './HAND\\\\M3',\n",
       " './HAND\\\\M4',\n",
       " './HAND\\\\M5',\n",
       " './HAND\\\\M6',\n",
       " './HAND\\\\M7',\n",
       " './HAND\\\\M8',\n",
       " './HAND\\\\M9']"
      ]
     },
     "execution_count": 3,
     "metadata": {},
     "output_type": "execute_result"
    }
   ],
   "source": [
    "# 폴더 불러오기\n",
    "filepath='./HAND/'\n",
    "files=glob.glob(filepath+'*')\n",
    "files"
   ]
  },
  {
   "cell_type": "code",
   "execution_count": 4,
   "metadata": {},
   "outputs": [],
   "source": [
    "# 폴더 불러오기\n",
    "filepath='./HAND/'\n",
    "files=glob.glob(filepath+'*')\n",
    "\n",
    "for image_folder in files:\n",
    "    data_path=image_folder+'/'\n",
    "    new_path=f'{image_folder[:2]}new{image_folder[2:]}/'\n",
    "    title=f'{image_folder[7:]}'\n",
    "    name=title+'maker'\n",
    "    name=ImageMaker(data_path, new_path, title)\n",
    "    name.run()"
   ]
  },
  {
   "cell_type": "code",
   "execution_count": 5,
   "metadata": {},
   "outputs": [
    {
     "data": {
      "text/plain": [
       "588"
      ]
     },
     "execution_count": 5,
     "metadata": {},
     "output_type": "execute_result"
    }
   ],
   "source": [
    "filepath='./newHAND/J1/'\n",
    "files=glob.glob(filepath+'*')\n",
    "len(files)"
   ]
  },
  {
   "cell_type": "code",
   "execution_count": null,
   "metadata": {},
   "outputs": [],
   "source": []
  }
 ],
 "metadata": {
  "kernelspec": {
   "display_name": "MY_PYTHON",
   "language": "python",
   "name": "python3"
  },
  "language_info": {
   "codemirror_mode": {
    "name": "ipython",
    "version": 3
   },
   "file_extension": ".py",
   "mimetype": "text/x-python",
   "name": "python",
   "nbconvert_exporter": "python",
   "pygments_lexer": "ipython3",
   "version": "3.9.18"
  },
  "orig_nbformat": 4
 },
 "nbformat": 4,
 "nbformat_minor": 2
}
