{
 "cells": [
  {
   "cell_type": "code",
   "execution_count": 1,
   "id": "8f99b95b-5b27-4afc-9da1-2a62545899d7",
   "metadata": {},
   "outputs": [],
   "source": [
    "import pandas as pd\n",
    "import numpy as np\n",
    "import os, glob\n",
    "from tqdm import tqdm"
   ]
  },
  {
   "cell_type": "code",
   "execution_count": 2,
   "id": "213e52e6-349e-47a5-b6f8-03f695d91729",
   "metadata": {},
   "outputs": [
    {
     "data": {
      "text/plain": [
       "['./data\\\\cow.csv',\n",
       " './data\\\\fish.csv',\n",
       " './data\\\\fruit.csv',\n",
       " './data\\\\mealkit.csv']"
      ]
     },
     "execution_count": 2,
     "metadata": {},
     "output_type": "execute_result"
    }
   ],
   "source": [
    "filepath='./data/'\n",
    "files=glob.glob(filepath+'*')\n",
    "files"
   ]
  },
  {
   "cell_type": "code",
   "execution_count": 3,
   "id": "e5ffc35f-a7af-4cb3-bde7-b3fd4ee6b74a",
   "metadata": {},
   "outputs": [],
   "source": [
    "# 빈 데이터프레임 생성\n",
    "food = pd.DataFrame(columns=['리뷰내용', '리뷰점수'])"
   ]
  },
  {
   "cell_type": "code",
   "execution_count": 4,
   "id": "5904c87e-3dbc-4a80-ba09-65191e2c950d",
   "metadata": {},
   "outputs": [
    {
     "data": {
      "text/html": [
       "<div>\n",
       "<style scoped>\n",
       "    .dataframe tbody tr th:only-of-type {\n",
       "        vertical-align: middle;\n",
       "    }\n",
       "\n",
       "    .dataframe tbody tr th {\n",
       "        vertical-align: top;\n",
       "    }\n",
       "\n",
       "    .dataframe thead th {\n",
       "        text-align: right;\n",
       "    }\n",
       "</style>\n",
       "<table border=\"1\" class=\"dataframe\">\n",
       "  <thead>\n",
       "    <tr style=\"text-align: right;\">\n",
       "      <th></th>\n",
       "      <th>리뷰내용</th>\n",
       "      <th>리뷰점수</th>\n",
       "    </tr>\n",
       "  </thead>\n",
       "  <tbody>\n",
       "    <tr>\n",
       "      <th>0</th>\n",
       "      <td>맛있어서 재구매 했어요🤤 집에 닭가슴살이 차고 넘치긴 한데 하도 먹으니 질려서 요즘...</td>\n",
       "      <td>5</td>\n",
       "    </tr>\n",
       "    <tr>\n",
       "      <th>1</th>\n",
       "      <td>요새 물가가 너무 비싸서 할인 찾아 삼만리..이벤트 찾아 삼만리.. 하지만 돌고 돌...</td>\n",
       "      <td>5</td>\n",
       "    </tr>\n",
       "    <tr>\n",
       "      <th>2</th>\n",
       "      <td>이곳저곳 비교하다가 리뷰가 좋아서 구매하게 되었어요~저염스팀 닭가슴살은 조각으로 나...</td>\n",
       "      <td>5</td>\n",
       "    </tr>\n",
       "    <tr>\n",
       "      <th>3</th>\n",
       "      <td>귀찮은게 제일 싫은 자취생이 건강도 챙길 수 있는 방법 &amp;gt; 랭킹닭컴 하세요 배...</td>\n",
       "      <td>5</td>\n",
       "    </tr>\n",
       "    <tr>\n",
       "      <th>4</th>\n",
       "      <td>배송 빠르고 가격이 저렴합니다주문한 구성대로 잘 왔고 스티로폼에 냉매팩 3개나 들어...</td>\n",
       "      <td>5</td>\n",
       "    </tr>\n",
       "    <tr>\n",
       "      <th>...</th>\n",
       "      <td>...</td>\n",
       "      <td>...</td>\n",
       "    </tr>\n",
       "    <tr>\n",
       "      <th>95574</th>\n",
       "      <td>항상 잘 시켜먹는 사과떡볶이ㅎㅎ 소스도 달콤매콤하고 특히 떡 식감이 다른 떡볶이들보...</td>\n",
       "      <td>5</td>\n",
       "    </tr>\n",
       "    <tr>\n",
       "      <th>95575</th>\n",
       "      <td>개인적으로 매콤한게 더 맛있움</td>\n",
       "      <td>5</td>\n",
       "    </tr>\n",
       "    <tr>\n",
       "      <th>95576</th>\n",
       "      <td>기다려지는 맛. 기다리는 시간이 길어도 그만큼 만족하니 됐어요~</td>\n",
       "      <td>5</td>\n",
       "    </tr>\n",
       "    <tr>\n",
       "      <th>95577</th>\n",
       "      <td>남편이 좋아해서 몇번째 시켜요! 맛있어요 ㅎㅎ</td>\n",
       "      <td>5</td>\n",
       "    </tr>\n",
       "    <tr>\n",
       "      <th>95578</th>\n",
       "      <td>맛있어요 맛있어요 많이 파세요</td>\n",
       "      <td>5</td>\n",
       "    </tr>\n",
       "  </tbody>\n",
       "</table>\n",
       "<p>95579 rows × 2 columns</p>\n",
       "</div>"
      ],
      "text/plain": [
       "                                                    리뷰내용 리뷰점수\n",
       "0      맛있어서 재구매 했어요🤤 집에 닭가슴살이 차고 넘치긴 한데 하도 먹으니 질려서 요즘...    5\n",
       "1      요새 물가가 너무 비싸서 할인 찾아 삼만리..이벤트 찾아 삼만리.. 하지만 돌고 돌...    5\n",
       "2      이곳저곳 비교하다가 리뷰가 좋아서 구매하게 되었어요~저염스팀 닭가슴살은 조각으로 나...    5\n",
       "3      귀찮은게 제일 싫은 자취생이 건강도 챙길 수 있는 방법 &gt; 랭킹닭컴 하세요 배...    5\n",
       "4      배송 빠르고 가격이 저렴합니다주문한 구성대로 잘 왔고 스티로폼에 냉매팩 3개나 들어...    5\n",
       "...                                                  ...  ...\n",
       "95574  항상 잘 시켜먹는 사과떡볶이ㅎㅎ 소스도 달콤매콤하고 특히 떡 식감이 다른 떡볶이들보...    5\n",
       "95575                                   개인적으로 매콤한게 더 맛있움    5\n",
       "95576                기다려지는 맛. 기다리는 시간이 길어도 그만큼 만족하니 됐어요~    5\n",
       "95577                          남편이 좋아해서 몇번째 시켜요! 맛있어요 ㅎㅎ    5\n",
       "95578                                   맛있어요 맛있어요 많이 파세요    5\n",
       "\n",
       "[95579 rows x 2 columns]"
      ]
     },
     "execution_count": 4,
     "metadata": {},
     "output_type": "execute_result"
    }
   ],
   "source": [
    "# 파일 경로를 반복하면서 데이터 처리\n",
    "for file in files:\n",
    "    new_df = pd.read_csv(file)\n",
    "    new_df=new_df[['리뷰내용', '리뷰점수']]\n",
    "    new_df.dropna(inplace=True)\n",
    "    new_df = new_df.drop_duplicates() # 중복값 제거\n",
    "    food = pd.concat([food, new_df], ignore_index=True)\n",
    "\n",
    "# 결과 데이터프레임 출력\n",
    "food"
   ]
  },
  {
   "cell_type": "code",
   "execution_count": 5,
   "id": "7abbcb1e-7011-462d-a2f1-1aa112a69355",
   "metadata": {},
   "outputs": [],
   "source": [
    "# csv 파일로 저장\n",
    "food.to_csv('./food.csv')"
   ]
  },
  {
   "cell_type": "code",
   "execution_count": 6,
   "id": "8764400b-0b0c-4537-95ba-04e68ac18f94",
   "metadata": {},
   "outputs": [
    {
     "data": {
      "text/plain": [
       "리뷰내용    . . . . . . .\n",
       "리뷰점수                5\n",
       "Name: 24703, dtype: object"
      ]
     },
     "execution_count": 6,
     "metadata": {},
     "output_type": "execute_result"
    }
   ],
   "source": [
    "food.iloc[24703]"
   ]
  },
  {
   "cell_type": "code",
   "execution_count": 7,
   "id": "20ad4e01-f358-4956-a0a5-5bafab0b4455",
   "metadata": {},
   "outputs": [
    {
     "name": "stderr",
     "output_type": "stream",
     "text": [
      "100%|████████████████████████████████████████████████████████████████████████████| 95579/95579 [27:40<00:00, 57.56it/s]\n"
     ]
    }
   ],
   "source": [
    "from konlpy.tag import Kkma\n",
    "from konlpy.tag import Okt\n",
    "import re\n",
    "\n",
    "okt=Okt()\n",
    "kkma=Kkma()\n",
    "\n",
    "total=[]\n",
    "for i in (tqdm(food['리뷰내용'])):\n",
    "    try:\n",
    "       # 이모지 빼기\n",
    "        t = okt.normalize(i)\n",
    "        t = \" \".join(re.findall(\"[a-zA-Z가-힣0-9 ]+\", t))  #정규표현식( \\w )랑 같음\n",
    "        t = kkma.pos(t)\n",
    "    \n",
    "        box = []\n",
    "        for j in t:\n",
    "            if j[1] in ['NNG', 'NNP']:  # 명사\n",
    "                box.append(j[0])\n",
    "            elif j[1] in ['VA']:   #형용사\n",
    "                box.append(j[0]+'다') \n",
    "        total.append(\" \".join(box))\n",
    "    except:\n",
    "        total.append(None)\n",
    "        continue\n",
    "\n",
    "food['리뷰내용']=total\n"
   ]
  },
  {
   "cell_type": "code",
   "execution_count": 9,
   "id": "d1558019-af66-4d88-93d2-da3b350e22e7",
   "metadata": {},
   "outputs": [
    {
     "data": {
      "text/html": [
       "<div>\n",
       "<style scoped>\n",
       "    .dataframe tbody tr th:only-of-type {\n",
       "        vertical-align: middle;\n",
       "    }\n",
       "\n",
       "    .dataframe tbody tr th {\n",
       "        vertical-align: top;\n",
       "    }\n",
       "\n",
       "    .dataframe thead th {\n",
       "        text-align: right;\n",
       "    }\n",
       "</style>\n",
       "<table border=\"1\" class=\"dataframe\">\n",
       "  <thead>\n",
       "    <tr style=\"text-align: right;\">\n",
       "      <th></th>\n",
       "      <th>리뷰내용</th>\n",
       "      <th>리뷰점수</th>\n",
       "    </tr>\n",
       "  </thead>\n",
       "  <tbody>\n",
       "    <tr>\n",
       "      <th>0</th>\n",
       "      <td>맛있다 구매 집 닭 가슴살 요즘 식사 스테이크 맛 오리지널 구매 맛 맛있다 빵 다르...</td>\n",
       "      <td>5</td>\n",
       "    </tr>\n",
       "    <tr>\n",
       "      <th>1</th>\n",
       "      <td>요새 물가 비싸다 할인 삼만 리 이벤트 결국 랭킹 닭 컴 냉장고 그렇다 사정 일요일...</td>\n",
       "      <td>5</td>\n",
       "    </tr>\n",
       "    <tr>\n",
       "      <th>2</th>\n",
       "      <td>이곳저곳 비교 하다 리뷰 좋다 구매 염 스팀 닭 가슴살 조각 편하다 약간 마늘 향 ...</td>\n",
       "      <td>5</td>\n",
       "    </tr>\n",
       "    <tr>\n",
       "      <th>3</th>\n",
       "      <td>귀찮다 싫다 자취생 건강 방법 랭킹 닭 컴 하세 배송 주문 다음날 자취방 냉장고 작...</td>\n",
       "      <td>5</td>\n",
       "    </tr>\n",
       "    <tr>\n",
       "      <th>4</th>\n",
       "      <td>배송 빠르다 가격 주 문한 구성 스티로폼 냉매 팩</td>\n",
       "      <td>5</td>\n",
       "    </tr>\n",
       "  </tbody>\n",
       "</table>\n",
       "</div>"
      ],
      "text/plain": [
       "                                                리뷰내용 리뷰점수\n",
       "0  맛있다 구매 집 닭 가슴살 요즘 식사 스테이크 맛 오리지널 구매 맛 맛있다 빵 다르...    5\n",
       "1  요새 물가 비싸다 할인 삼만 리 이벤트 결국 랭킹 닭 컴 냉장고 그렇다 사정 일요일...    5\n",
       "2  이곳저곳 비교 하다 리뷰 좋다 구매 염 스팀 닭 가슴살 조각 편하다 약간 마늘 향 ...    5\n",
       "3  귀찮다 싫다 자취생 건강 방법 랭킹 닭 컴 하세 배송 주문 다음날 자취방 냉장고 작...    5\n",
       "4                        배송 빠르다 가격 주 문한 구성 스티로폼 냉매 팩    5"
      ]
     },
     "execution_count": 9,
     "metadata": {},
     "output_type": "execute_result"
    }
   ],
   "source": [
    "food.head(5)"
   ]
  },
  {
   "cell_type": "code",
   "execution_count": 10,
   "id": "dd2c517d-b890-437f-8347-7322dbf5096b",
   "metadata": {},
   "outputs": [],
   "source": [
    "# csv파일로 만들기\n",
    "food.to_csv('./food(1).csv')"
   ]
  },
  {
   "cell_type": "code",
   "execution_count": null,
   "id": "92326492-f1c2-4e93-9804-44fb900d46a2",
   "metadata": {},
   "outputs": [],
   "source": []
  },
  {
   "cell_type": "code",
   "execution_count": null,
   "id": "ca702913-74ff-4a8e-8c9f-aaacaf9f9734",
   "metadata": {},
   "outputs": [],
   "source": []
  },
  {
   "cell_type": "code",
   "execution_count": null,
   "id": "107d7cd2-0893-4ac3-b24c-712cba8fdc43",
   "metadata": {},
   "outputs": [],
   "source": [
    "\n",
    "\n"
   ]
  },
  {
   "cell_type": "code",
   "execution_count": null,
   "id": "8ddb25e3-63ca-4d0b-9c49-16f018c5ea90",
   "metadata": {},
   "outputs": [],
   "source": []
  }
 ],
 "metadata": {
  "kernelspec": {
   "display_name": "Python 3 (ipykernel)",
   "language": "python",
   "name": "python3"
  },
  "language_info": {
   "codemirror_mode": {
    "name": "ipython",
    "version": 3
   },
   "file_extension": ".py",
   "mimetype": "text/x-python",
   "name": "python",
   "nbconvert_exporter": "python",
   "pygments_lexer": "ipython3",
   "version": "3.9.18"
  }
 },
 "nbformat": 4,
 "nbformat_minor": 5
}
