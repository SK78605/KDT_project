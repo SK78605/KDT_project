{
 "cells": [
  {
   "cell_type": "code",
   "execution_count": 1,
   "id": "8f99b95b-5b27-4afc-9da1-2a62545899d7",
   "metadata": {},
   "outputs": [],
   "source": [
    "import pandas as pd\n",
    "import numpy as np\n",
    "import os, glob\n",
    "from tqdm import tqdm"
   ]
  },
  {
   "cell_type": "code",
   "execution_count": 2,
   "id": "eb7d232f-8b67-4121-8780-5ffd57700103",
   "metadata": {},
   "outputs": [
    {
     "data": {
      "text/html": [
       "<div>\n",
       "<style scoped>\n",
       "    .dataframe tbody tr th:only-of-type {\n",
       "        vertical-align: middle;\n",
       "    }\n",
       "\n",
       "    .dataframe tbody tr th {\n",
       "        vertical-align: top;\n",
       "    }\n",
       "\n",
       "    .dataframe thead th {\n",
       "        text-align: right;\n",
       "    }\n",
       "</style>\n",
       "<table border=\"1\" class=\"dataframe\">\n",
       "  <thead>\n",
       "    <tr style=\"text-align: right;\">\n",
       "      <th></th>\n",
       "      <th>리뷰내용</th>\n",
       "      <th>리뷰점수</th>\n",
       "    </tr>\n",
       "  </thead>\n",
       "  <tbody>\n",
       "    <tr>\n",
       "      <th>0</th>\n",
       "      <td>맛있어서 재구매 했어요🤤 집에 닭가슴살이 차고 넘치긴 한데 하도 먹으니 질려서 요즘...</td>\n",
       "      <td>5</td>\n",
       "    </tr>\n",
       "    <tr>\n",
       "      <th>1</th>\n",
       "      <td>요새 물가가 너무 비싸서 할인 찾아 삼만리..이벤트 찾아 삼만리.. 하지만 돌고 돌...</td>\n",
       "      <td>5</td>\n",
       "    </tr>\n",
       "    <tr>\n",
       "      <th>2</th>\n",
       "      <td>이곳저곳 비교하다가 리뷰가 좋아서 구매하게 되었어요~저염스팀 닭가슴살은 조각으로 나...</td>\n",
       "      <td>5</td>\n",
       "    </tr>\n",
       "  </tbody>\n",
       "</table>\n",
       "</div>"
      ],
      "text/plain": [
       "                                                리뷰내용  리뷰점수\n",
       "0  맛있어서 재구매 했어요🤤 집에 닭가슴살이 차고 넘치긴 한데 하도 먹으니 질려서 요즘...     5\n",
       "1  요새 물가가 너무 비싸서 할인 찾아 삼만리..이벤트 찾아 삼만리.. 하지만 돌고 돌...     5\n",
       "2  이곳저곳 비교하다가 리뷰가 좋아서 구매하게 되었어요~저염스팀 닭가슴살은 조각으로 나...     5"
      ]
     },
     "execution_count": 2,
     "metadata": {},
     "output_type": "execute_result"
    }
   ],
   "source": [
    "food=pd.read_csv('./food.csv',encoding='utf-8')\n",
    "del food['Unnamed: 0']\n",
    "food.head(3)"
   ]
  },
  {
   "cell_type": "code",
   "execution_count": 3,
   "id": "3692602d-b3f9-4250-b1b5-490f4c77f9fd",
   "metadata": {},
   "outputs": [
    {
     "name": "stdout",
     "output_type": "stream",
     "text": [
      "<class 'pandas.core.frame.DataFrame'>\n",
      "RangeIndex: 95579 entries, 0 to 95578\n",
      "Data columns (total 2 columns):\n",
      " #   Column  Non-Null Count  Dtype \n",
      "---  ------  --------------  ----- \n",
      " 0   리뷰내용    95579 non-null  object\n",
      " 1   리뷰점수    95579 non-null  int64 \n",
      "dtypes: int64(1), object(1)\n",
      "memory usage: 1.5+ MB\n"
     ]
    }
   ],
   "source": [
    "food.info()"
   ]
  },
  {
   "cell_type": "code",
   "execution_count": 4,
   "id": "c9873ff1-89e1-41b6-a9be-22a64e4cf99d",
   "metadata": {},
   "outputs": [],
   "source": [
    "data=food['리뷰내용']\n",
    "target=food['리뷰점수']"
   ]
  },
  {
   "cell_type": "code",
   "execution_count": 5,
   "id": "85408ce6-f896-436a-a541-225a0b6d9f08",
   "metadata": {},
   "outputs": [],
   "source": [
    "from sklearn.model_selection import train_test_split\n",
    "train_x,test_x,train_y,test_y=train_test_split(data,target,test_size=0.2,random_state=42,stratify=target)"
   ]
  },
  {
   "cell_type": "code",
   "execution_count": 17,
   "id": "0ca76680",
   "metadata": {},
   "outputs": [],
   "source": [
    "from sklearn.feature_extraction.text import TfidfVectorizer\n",
    "\n",
    "# 텍스트 데이터를 TF-IDF로 변환\n",
    "vectorizer = TfidfVectorizer(ngram_range=(1,2))\n",
    "X_train_tfidf = vectorizer.fit_transform(train_x)\n",
    "X_test_tfidf = vectorizer.transform(test_x)"
   ]
  },
  {
   "cell_type": "code",
   "execution_count": 18,
   "id": "6f0970f3-499c-4e0f-8724-55f7b1994860",
   "metadata": {},
   "outputs": [],
   "source": [
    "from sklearn.ensemble import RandomForestRegressor\n",
    "from sklearn.metrics import mean_squared_error"
   ]
  },
  {
   "cell_type": "code",
   "execution_count": 19,
   "id": "8c775967-fa9e-41ea-b8ed-bd8ff00973bc",
   "metadata": {},
   "outputs": [
    {
     "data": {
      "text/html": [
       "<style>#sk-container-id-2 {color: black;}#sk-container-id-2 pre{padding: 0;}#sk-container-id-2 div.sk-toggleable {background-color: white;}#sk-container-id-2 label.sk-toggleable__label {cursor: pointer;display: block;width: 100%;margin-bottom: 0;padding: 0.3em;box-sizing: border-box;text-align: center;}#sk-container-id-2 label.sk-toggleable__label-arrow:before {content: \"▸\";float: left;margin-right: 0.25em;color: #696969;}#sk-container-id-2 label.sk-toggleable__label-arrow:hover:before {color: black;}#sk-container-id-2 div.sk-estimator:hover label.sk-toggleable__label-arrow:before {color: black;}#sk-container-id-2 div.sk-toggleable__content {max-height: 0;max-width: 0;overflow: hidden;text-align: left;background-color: #f0f8ff;}#sk-container-id-2 div.sk-toggleable__content pre {margin: 0.2em;color: black;border-radius: 0.25em;background-color: #f0f8ff;}#sk-container-id-2 input.sk-toggleable__control:checked~div.sk-toggleable__content {max-height: 200px;max-width: 100%;overflow: auto;}#sk-container-id-2 input.sk-toggleable__control:checked~label.sk-toggleable__label-arrow:before {content: \"▾\";}#sk-container-id-2 div.sk-estimator input.sk-toggleable__control:checked~label.sk-toggleable__label {background-color: #d4ebff;}#sk-container-id-2 div.sk-label input.sk-toggleable__control:checked~label.sk-toggleable__label {background-color: #d4ebff;}#sk-container-id-2 input.sk-hidden--visually {border: 0;clip: rect(1px 1px 1px 1px);clip: rect(1px, 1px, 1px, 1px);height: 1px;margin: -1px;overflow: hidden;padding: 0;position: absolute;width: 1px;}#sk-container-id-2 div.sk-estimator {font-family: monospace;background-color: #f0f8ff;border: 1px dotted black;border-radius: 0.25em;box-sizing: border-box;margin-bottom: 0.5em;}#sk-container-id-2 div.sk-estimator:hover {background-color: #d4ebff;}#sk-container-id-2 div.sk-parallel-item::after {content: \"\";width: 100%;border-bottom: 1px solid gray;flex-grow: 1;}#sk-container-id-2 div.sk-label:hover label.sk-toggleable__label {background-color: #d4ebff;}#sk-container-id-2 div.sk-serial::before {content: \"\";position: absolute;border-left: 1px solid gray;box-sizing: border-box;top: 0;bottom: 0;left: 50%;z-index: 0;}#sk-container-id-2 div.sk-serial {display: flex;flex-direction: column;align-items: center;background-color: white;padding-right: 0.2em;padding-left: 0.2em;position: relative;}#sk-container-id-2 div.sk-item {position: relative;z-index: 1;}#sk-container-id-2 div.sk-parallel {display: flex;align-items: stretch;justify-content: center;background-color: white;position: relative;}#sk-container-id-2 div.sk-item::before, #sk-container-id-2 div.sk-parallel-item::before {content: \"\";position: absolute;border-left: 1px solid gray;box-sizing: border-box;top: 0;bottom: 0;left: 50%;z-index: -1;}#sk-container-id-2 div.sk-parallel-item {display: flex;flex-direction: column;z-index: 1;position: relative;background-color: white;}#sk-container-id-2 div.sk-parallel-item:first-child::after {align-self: flex-end;width: 50%;}#sk-container-id-2 div.sk-parallel-item:last-child::after {align-self: flex-start;width: 50%;}#sk-container-id-2 div.sk-parallel-item:only-child::after {width: 0;}#sk-container-id-2 div.sk-dashed-wrapped {border: 1px dashed gray;margin: 0 0.4em 0.5em 0.4em;box-sizing: border-box;padding-bottom: 0.4em;background-color: white;}#sk-container-id-2 div.sk-label label {font-family: monospace;font-weight: bold;display: inline-block;line-height: 1.2em;}#sk-container-id-2 div.sk-label-container {text-align: center;}#sk-container-id-2 div.sk-container {/* jupyter's `normalize.less` sets `[hidden] { display: none; }` but bootstrap.min.css set `[hidden] { display: none !important; }` so we also need the `!important` here to be able to override the default hidden behavior on the sphinx rendered scikit-learn.org. See: https://github.com/scikit-learn/scikit-learn/issues/21755 */display: inline-block !important;position: relative;}#sk-container-id-2 div.sk-text-repr-fallback {display: none;}</style><div id=\"sk-container-id-2\" class=\"sk-top-container\"><div class=\"sk-text-repr-fallback\"><pre>RandomForestRegressor(max_depth=100, n_estimators=10)</pre><b>In a Jupyter environment, please rerun this cell to show the HTML representation or trust the notebook. <br />On GitHub, the HTML representation is unable to render, please try loading this page with nbviewer.org.</b></div><div class=\"sk-container\" hidden><div class=\"sk-item\"><div class=\"sk-estimator sk-toggleable\"><input class=\"sk-toggleable__control sk-hidden--visually\" id=\"sk-estimator-id-2\" type=\"checkbox\" checked><label for=\"sk-estimator-id-2\" class=\"sk-toggleable__label sk-toggleable__label-arrow\">RandomForestRegressor</label><div class=\"sk-toggleable__content\"><pre>RandomForestRegressor(max_depth=100, n_estimators=10)</pre></div></div></div></div></div>"
      ],
      "text/plain": [
       "RandomForestRegressor(max_depth=100, n_estimators=10)"
      ]
     },
     "execution_count": 19,
     "metadata": {},
     "output_type": "execute_result"
    }
   ],
   "source": [
    "# 모델 생성\n",
    "rf=RandomForestRegressor(max_depth=100,n_estimators=10)\n",
    "rf.fit(X_train_tfidf,train_y)\n"
   ]
  },
  {
   "cell_type": "code",
   "execution_count": 20,
   "id": "4bcac3af-6497-4941-99ca-a4c9ee38ead3",
   "metadata": {},
   "outputs": [],
   "source": [
    "# 테스트 세트로 예측\n",
    "y_pred = rf.predict(X_test_tfidf)"
   ]
  },
  {
   "cell_type": "code",
   "execution_count": 21,
   "id": "92326492-f1c2-4e93-9804-44fb900d46a2",
   "metadata": {},
   "outputs": [
    {
     "name": "stdout",
     "output_type": "stream",
     "text": [
      "cv => Mean Squared Error: 0.32846604638265675\n"
     ]
    }
   ],
   "source": [
    "# 모델 평가\n",
    "mse = mean_squared_error(test_y, y_pred)\n",
    "print(f'cv => Mean Squared Error: {mse}')"
   ]
  },
  {
   "cell_type": "code",
   "execution_count": 24,
   "metadata": {},
   "outputs": [
    {
     "name": "stdout",
     "output_type": "stream",
     "text": [
      "예측된 리뷰평점: [4.8287525]\n"
     ]
    }
   ],
   "source": [
    "new_review = [\"좋네요. 앞으로 종종 이용할게요\"]  \n",
    "new_review_tfidf = vectorizer.transform(new_review)\n",
    "\n",
    "# 모델을 사용하여 예측\n",
    "predicted_rating = rf.predict(new_review_tfidf)\n",
    "rf_rating=rf.predict(new_review_tfidf)\n",
    "\n",
    "print(f\"예측된 리뷰평점: {rf_rating}\")"
   ]
  },
  {
   "cell_type": "code",
   "execution_count": 27,
   "id": "a8121ac5",
   "metadata": {},
   "outputs": [
    {
     "name": "stdout",
     "output_type": "stream",
     "text": [
      "예측된 리뷰평점: [4.85040478]\n"
     ]
    }
   ],
   "source": [
    "new_review = [\"배달이 너무 늦고, 신선도가 떨어져요.. 최악이에요\"]  \n",
    "new_review_tfidf = vectorizer.transform(new_review)\n",
    "\n",
    "# 모델을 사용하여 예측\n",
    "predicted_rating = rf.predict(new_review_tfidf)\n",
    "rf_rating=rf.predict(new_review_tfidf)\n",
    "\n",
    "print(f\"예측된 리뷰평점: {rf_rating}\")"
   ]
  },
  {
   "cell_type": "markdown",
   "id": "3c3f8b29",
   "metadata": {},
   "source": [
    "### 낮은 평점 예측 잘 안됨  \n",
    "Why? 높은 별점의 양이 상대적으로 훨씬 많은 데이터 불균형으로 인해"
   ]
  },
  {
   "cell_type": "code",
   "execution_count": null,
   "id": "ad9f01f7",
   "metadata": {},
   "outputs": [],
   "source": []
  },
  {
   "cell_type": "code",
   "execution_count": null,
   "id": "77162fbb",
   "metadata": {},
   "outputs": [],
   "source": []
  }
 ],
 "metadata": {
  "kernelspec": {
   "display_name": "Python 3 (ipykernel)",
   "language": "python",
   "name": "python3"
  },
  "language_info": {
   "codemirror_mode": {
    "name": "ipython",
    "version": 3
   },
   "file_extension": ".py",
   "mimetype": "text/x-python",
   "name": "python",
   "nbconvert_exporter": "python",
   "pygments_lexer": "ipython3",
   "version": "3.9.18"
  }
 },
 "nbformat": 4,
 "nbformat_minor": 5
}
